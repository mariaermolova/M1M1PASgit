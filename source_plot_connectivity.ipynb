{
 "cells": [
  {
   "cell_type": "code",
   "execution_count": null,
   "metadata": {},
   "outputs": [],
   "source": [
    "import pandas as pd\n",
    "import numpy as np\n",
    "import matplotlib.pyplot as plt\n",
    "import seaborn as sns"
   ]
  },
  {
   "cell_type": "code",
   "execution_count": null,
   "metadata": {},
   "outputs": [],
   "source": [
    "# Load the subject's DataFrame\n",
    "big_df = pd.read_csv(r\"W:\\Projects\\2019-04 M1M1PAS Project\\analysis\\source_Paolo\\fc_source\\sourceConnectivity.csv\",index_col=0)\n",
    "\n",
    "# Print the reshaped DataFrame\n",
    "print(big_df)"
   ]
  },
  {
   "cell_type": "code",
   "execution_count": null,
   "metadata": {},
   "outputs": [],
   "source": [
    "# Fix variable types and check for NaNs\n",
    "big_df['run'] = big_df['run'].astype(str)\n",
    "print(big_df.dtypes)\n",
    "print(big_df.isna().sum())"
   ]
  },
  {
   "cell_type": "code",
   "execution_count": null,
   "metadata": {},
   "outputs": [],
   "source": [
    "# Group by the desired columns and calculate median\n",
    "con_mes = 'aec'\n",
    "\n",
    "summary_df_ind = big_df.groupby(['run', 'task', 'subject'], as_index=False).agg(\n",
    "    median_sub_connect=(con_mes, 'median'),\n",
    ")\n",
    "print(summary_df_ind)"
   ]
  },
  {
   "cell_type": "code",
   "execution_count": null,
   "metadata": {},
   "outputs": [],
   "source": [
    "# Function to calculate 25th and 75th percentiles\n",
    "def q25(x):\n",
    "    return np.percentile(x, 25)\n",
    "\n",
    "def q75(x):\n",
    "    return np.percentile(x, 75)\n",
    "\n",
    "# Group by 'run', 'task' and calculate medians and quartiles\n",
    "summary_df = summary_df_ind.groupby(['run', 'task']).agg(\n",
    "    median_connect=('median_sub_connect', 'median'),\n",
    "    q1_connect=('median_sub_connect', q25),\n",
    "    q3_connect=('median_sub_connect', q75)\n",
    ").reset_index()\n",
    "\n",
    "# Calculate the errors (distance between median and quartiles)\n",
    "summary_df['lower_err'] = summary_df['median_connect'] - summary_df['q1_connect']\n",
    "summary_df['upper_err'] = summary_df['q3_connect'] - summary_df['median_connect']"
   ]
  },
  {
   "cell_type": "code",
   "execution_count": null,
   "metadata": {},
   "outputs": [],
   "source": [
    "data_to_plot = summary_df\n",
    "\n",
    "# Plot\n",
    "plt.figure(figsize=(10, 6))\n",
    "\n",
    "# Plot the median values using seaborn\n",
    "sns.lineplot(\n",
    "    data=data_to_plot, \n",
    "    x='run', \n",
    "    y='median_connect', \n",
    "    hue='task', \n",
    "    marker='o', \n",
    "    ci=None  # We will add custom error bars for quartiles\n",
    ")\n",
    "\n",
    "# Get the colors used by seaborn for each task line\n",
    "palette = sns.color_palette()\n",
    "\n",
    "# Add custom error bars for the quartiles with the same colors as the lines\n",
    "for i, task in enumerate(data_to_plot['task'].unique()):\n",
    "    task_data = data_to_plot[data_to_plot['task'] == task]\n",
    "    plt.errorbar(\n",
    "        task_data['run'], \n",
    "        task_data['median_connect'], \n",
    "        yerr=[task_data['lower_err'], task_data['upper_err']], \n",
    "        fmt='none',  # No line, just error bars\n",
    "        capsize=5,  # Optional: adds caps to the error bars\n",
    "        color=palette[i],  # Apply the same color as the line\n",
    "    )\n",
    "\n",
    "# Customize the plot\n",
    "plt.title(\"Median AEC with Quartiles\")\n",
    "plt.xlabel(\"Run\")\n",
    "plt.ylabel(\"Median AEC\")\n",
    "plt.legend(title=\"Task\")\n",
    "plt.grid(True)\n",
    "\n",
    "# Show the plot\n",
    "plt.show()"
   ]
  },
  {
   "cell_type": "code",
   "execution_count": null,
   "metadata": {},
   "outputs": [],
   "source": [
    "# Get the unique tasks for this subject\n",
    "tasks = summary_df_ind['task'].unique()\n",
    "    \n",
    "# Create a figure with subplots for each task\n",
    "fig, axes = plt.subplots(nrows=1, ncols=len(tasks), figsize=(15, 5), sharey=True)\n",
    "fig.suptitle(f'Subject-median Connectivity', fontsize=16)\n",
    "\n",
    "    \n",
    "# Iterate through tasks and create a violin plot for each\n",
    "for i, task in enumerate(tasks):\n",
    "    task_df = summary_df_ind[summary_df_ind['task'] == task]\n",
    "    sns.violinplot(ax=axes[i], x='run', y='median_sub_connect', data=task_df)\n",
    "    axes[i].set_title(f'Task: {task}')\n",
    "    axes[i].set_xlabel('Run')\n",
    "    axes[i].set_ylabel('Connectivity subject-median Value')\n",
    "\n",
    "# Show the plot for this subject\n",
    "plt.tight_layout(rect=[0, 0, 1, 0.96])\n",
    "plt.show()"
   ]
  }
 ],
 "metadata": {
  "kernelspec": {
   "display_name": "mne",
   "language": "python",
   "name": "python3"
  },
  "language_info": {
   "codemirror_mode": {
    "name": "ipython",
    "version": 3
   },
   "file_extension": ".py",
   "mimetype": "text/x-python",
   "name": "python",
   "nbconvert_exporter": "python",
   "pygments_lexer": "ipython3",
   "version": "3.12.5"
  }
 },
 "nbformat": 4,
 "nbformat_minor": 2
}
